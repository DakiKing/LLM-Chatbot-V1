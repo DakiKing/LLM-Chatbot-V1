{
 "cells": [
  {
   "cell_type": "code",
   "execution_count": null,
   "metadata": {},
   "outputs": [
    {
     "name": "stdout",
     "output_type": "stream",
     "text": [
      "✅ Product embeddings created and stored successfully!\n"
     ]
    }
   ],
   "source": [
    "import json\n",
    "import openai\n",
    "import numpy as np\n",
    "import faiss\n",
    "\n",
    "\n",
    "with open(\"data/products.json\", \"r\", encoding=\"utf-8\") as f:\n",
    "    products = json.load(f)\n",
    "\n",
    "# OpenAI API Key \n",
    "OPENAI_API_KEY = os.getenv(\"OPENAI_API_KEY\")\n",
    "\n",
    "def get_embedding(text):\n",
    "    \"\"\"Fetch text embedding using the updated OpenAI API\"\"\"\n",
    "    client = openai.OpenAI(api_key=OPENAI_API_KEY)  \n",
    "    response = client.embeddings.create(\n",
    "        input=text,\n",
    "        model=\"text-embedding-ada-002\"\n",
    "    )\n",
    "    return np.array(response.data[0].embedding)\n",
    "\n",
    "\n",
    "product_embeddings = []\n",
    "product_texts = []\n",
    "\n",
    "for product in products:\n",
    "    text = f\"{product['name']} - {product['description']}\"\n",
    "    embedding = get_embedding(text)\n",
    "    product_embeddings.append(embedding)\n",
    "    product_texts.append(text)\n",
    "\n",
    "\n",
    "dimension = len(product_embeddings[0])  \n",
    "index = faiss.IndexFlatL2(dimension)\n",
    "index.add(np.array(product_embeddings))\n",
    "\n",
    "\n",
    "faiss.write_index(index, \"data/product_embeddings.index\")\n",
    "with open(\"data/product_texts.json\", \"w\", encoding=\"utf-8\") as f:\n",
    "    json.dump(product_texts, f)\n",
    "\n",
    "print(\"✅ Product embeddings created and stored successfully!\")\n"
   ]
  }
 ],
 "metadata": {
  "kernelspec": {
   "display_name": "Python 3",
   "language": "python",
   "name": "python3"
  },
  "language_info": {
   "codemirror_mode": {
    "name": "ipython",
    "version": 3
   },
   "file_extension": ".py",
   "mimetype": "text/x-python",
   "name": "python",
   "nbconvert_exporter": "python",
   "pygments_lexer": "ipython3",
   "version": "3.8.10"
  }
 },
 "nbformat": 4,
 "nbformat_minor": 2
}
